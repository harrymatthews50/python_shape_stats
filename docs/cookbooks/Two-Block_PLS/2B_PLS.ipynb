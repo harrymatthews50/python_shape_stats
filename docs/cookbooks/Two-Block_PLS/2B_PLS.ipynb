{
 "cells": [
  {
   "cell_type": "markdown",
   "metadata": {},
   "source": [
    "# Studying covariation using two-block partial least-squares"
   ]
  },
  {
   "cell_type": "markdown",
   "metadata": {},
   "source": [
    "## Introduction\n",
    "Partial least-squares (PLS) is a [family of techniques](http://staff.ustc.edu.cn/~zwp/teach/Reg/overview_pls.pdf) for studying and modelling relations among multivariate data-sets. The terminology can get confusing so, to be clear, when I say 'two-block-pls' I refer those pls methods that:\n",
    "\n",
    "1. Model the relationship between exactly two blocks of variables (although extensions exist to model relationships among more than 2 blocks).\n",
    "2. Are symmetrical (the X and Y blocks could be interchanged without altering the results).\n",
    "3. Usually the goal of the analysis is to extract and interpret the patterns of covariation, as opposed to prediction (e.g. of Y from X). For prediction variants that emphasize explaining one block from the other are more appropriate.\n",
    "\n",
    "Python_shape_stats PLS_2B and ShapePLS_2B classes implement implement the 'PLS-SB' algoriths in the terminology of the [review](http://staff.ustc.edu.cn/~zwp/teach/Reg/overview_pls.pdf), although 'PLS-Mode-A' is also symmetric and would also be appropriate here.  'PLS-SB' is the same algorithm as 'PLSSVD' in [scipy](https://scikit-learn.org/stable/modules/generated/sklearn.cross_decomposition.PLSSVD.html).\n",
    "\n",
    "### Note\n",
    "I use a Jupyter notebook to easily move between code snippets and dicussion. However some limitations in how pyvista cooperates with Jupyter means that some of the visualisation methods don't work properly when run inisde Jupyter. I advise you to also copy the code snippets consecutively into a .py file and run either from the terminal or in an IDE like PyCharm or Spyder.\n",
    "\n",
    "\n",
    "## Two-block PLS for studying covariation between two related structures\n",
    "[Two block pls in shape analysis](https://doi.org/10.1080/106351500750049806) is often used to study the patterns of covariation that exist between related structures. For example [Young et.al](https://doi.org/10.1016/j.ajodo.2015.09.028) studied the relationship between the facial surface and the underlying skeleton. This first part of the notebook uses the example of studying covariation between the shape of the human nose and the human forehead\n",
    "\n",
    "### Step 1: Generalized Procrustes analysis\n",
    "After importing the relevant packages and loading the data ...="
   ]
  },
  {
   "cell_type": "code",
   "execution_count": 4,
   "metadata": {
    "collapsed": false,
    "jupyter": {
     "outputs_hidden": false
    },
    "tags": []
   },
   "outputs": [
    {
     "data": {
      "application/vnd.jupyter.widget-view+json": {
       "model_id": "596b00a2add4481d8acd17fef8e02ee9",
       "version_major": 2,
       "version_minor": 0
      },
      "text/plain": [
       "Output()"
      ]
     },
     "metadata": {},
     "output_type": "display_data"
    },
    {
     "data": {
      "text/html": [
       "<pre style=\"white-space:pre;overflow-x:auto;line-height:normal;font-family:Menlo,'DejaVu Sans Mono',consolas,'Courier New',monospace\"></pre>\n"
      ],
      "text/plain": []
     },
     "metadata": {},
     "output_type": "display_data"
    },
    {
     "data": {
      "text/html": [
       "<pre style=\"white-space:pre;overflow-x:auto;line-height:normal;font-family:Menlo,'DejaVu Sans Mono',consolas,'Courier New',monospace\">\n",
       "</pre>\n"
      ],
      "text/plain": [
       "\n"
      ]
     },
     "metadata": {},
     "output_type": "display_data"
    },
    {
     "data": {
      "application/vnd.jupyter.widget-view+json": {
       "model_id": "e37eefc8fba4476e80af012bdb735f8f",
       "version_major": 2,
       "version_minor": 0
      },
      "text/plain": [
       "Output()"
      ]
     },
     "metadata": {},
     "output_type": "display_data"
    },
    {
     "data": {
      "text/html": [
       "<pre style=\"white-space:pre;overflow-x:auto;line-height:normal;font-family:Menlo,'DejaVu Sans Mono',consolas,'Courier New',monospace\"></pre>\n"
      ],
      "text/plain": []
     },
     "metadata": {},
     "output_type": "display_data"
    },
    {
     "data": {
      "text/html": [
       "<pre style=\"white-space:pre;overflow-x:auto;line-height:normal;font-family:Menlo,'DejaVu Sans Mono',consolas,'Courier New',monospace\">\n",
       "</pre>\n"
      ],
      "text/plain": [
       "\n"
      ]
     },
     "metadata": {},
     "output_type": "display_data"
    }
   ],
   "source": [
    "##\n",
    "from python_shape_stats import helpers, procrustes\n",
    "from python_shape_stats.statistical_shape_models import ShapePCA,ShapePLS_2B\n",
    "import glob\n",
    "import os\n",
    "import numpy as np\n",
    "\n",
    "\n",
    "\n",
    "# load the nose and forehead datasets\n",
    "nose_path = helpers.get_path_to_simulated_noses() # get path to the relevant package data\n",
    "nose_obj_paths = glob.glob(os.path.join(nose_path,'*.obj'))\n",
    "if len(nose_obj_paths)==0:\n",
    "    Warning('Dataset not found')\n",
    "forehead_path = helpers.get_path_to_simulated_foreheads()\n",
    "forehead_obj_paths = glob.glob(os.path.join(forehead_path,'*.obj'))\n",
    "if len(forehead_obj_paths)==0:\n",
    "    Warning('Dataset not found')\n",
    "\n",
    "# check the filenames are matching (specimen A in one dataset is the same as in the other)\n",
    "assert all([os.path.split(nose_obj_paths[x])[1] == os.path.split(forehead_obj_paths[x])[1] for x in range(len(forehead_obj_paths))])\n",
    "\n",
    "# load each dataset into a numpy array and a list of polydatas\n",
    "x_vertices,x_polydatas = helpers.load_shapes_to_array(nose_obj_paths)\n",
    "y_vertices,y_polydatas = helpers.load_shapes_to_array(forehead_obj_paths)\n"
   ]
  },
  {
   "cell_type": "markdown",
   "metadata": {},
   "source": [
    "...the first thing we need to do is align all the samples into a common coordinate system (see the notebook on Procrustes analysis for more details). For this we have two options and these depend on the goal of the study.\n",
    "1. If how structure a is positioned relative to structure b is important then you want to treat the points representing a and b as single block for superimposition (set SUPER_TYPE to 'joint').\n",
    "2. If not, and you are only interested in how the shape of one structure covaries with another, ignoring how they are positioned relative to each other, then you want to superimpose the blocks separately (SUPER_TYPE = 'separate')"
   ]
  },
  {
   "cell_type": "code",
   "execution_count": 5,
   "metadata": {
    "collapsed": false,
    "jupyter": {
     "outputs_hidden": false
    }
   },
   "outputs": [
    {
     "data": {
      "application/vnd.jupyter.widget-view+json": {
       "model_id": "1873d508c35a43bd95907c992f82ced5",
       "version_major": 2,
       "version_minor": 0
      },
      "text/plain": [
       "Output()"
      ]
     },
     "metadata": {},
     "output_type": "display_data"
    },
    {
     "name": "stdout",
     "output_type": "stream",
     "text": [
      "Begin generalized Procrustes analysis\n",
      "Iteration 0\n"
     ]
    },
    {
     "data": {
      "text/html": [
       "<pre style=\"white-space:pre;overflow-x:auto;line-height:normal;font-family:Menlo,'DejaVu Sans Mono',consolas,'Courier New',monospace\"></pre>\n"
      ],
      "text/plain": []
     },
     "metadata": {},
     "output_type": "display_data"
    },
    {
     "data": {
      "text/html": [
       "<pre style=\"white-space:pre;overflow-x:auto;line-height:normal;font-family:Menlo,'DejaVu Sans Mono',consolas,'Courier New',monospace\">\n",
       "</pre>\n"
      ],
      "text/plain": [
       "\n"
      ]
     },
     "metadata": {},
     "output_type": "display_data"
    },
    {
     "data": {
      "application/vnd.jupyter.widget-view+json": {
       "model_id": "69d76c887787422ea22535dda837b4ea",
       "version_major": 2,
       "version_minor": 0
      },
      "text/plain": [
       "Output()"
      ]
     },
     "metadata": {},
     "output_type": "display_data"
    },
    {
     "name": "stdout",
     "output_type": "stream",
     "text": [
      "Iteration 1\n"
     ]
    },
    {
     "data": {
      "text/html": [
       "<pre style=\"white-space:pre;overflow-x:auto;line-height:normal;font-family:Menlo,'DejaVu Sans Mono',consolas,'Courier New',monospace\"></pre>\n"
      ],
      "text/plain": []
     },
     "metadata": {},
     "output_type": "display_data"
    },
    {
     "data": {
      "text/html": [
       "<pre style=\"white-space:pre;overflow-x:auto;line-height:normal;font-family:Menlo,'DejaVu Sans Mono',consolas,'Courier New',monospace\">\n",
       "</pre>\n"
      ],
      "text/plain": [
       "\n"
      ]
     },
     "metadata": {},
     "output_type": "display_data"
    },
    {
     "data": {
      "application/vnd.jupyter.widget-view+json": {
       "model_id": "264ed723c874449f8814af99129dda71",
       "version_major": 2,
       "version_minor": 0
      },
      "text/plain": [
       "Output()"
      ]
     },
     "metadata": {},
     "output_type": "display_data"
    },
    {
     "name": "stdout",
     "output_type": "stream",
     "text": [
      "RMS difference =2.1522801962460126e-07\n",
      "Iteration 2\n"
     ]
    },
    {
     "data": {
      "text/html": [
       "<pre style=\"white-space:pre;overflow-x:auto;line-height:normal;font-family:Menlo,'DejaVu Sans Mono',consolas,'Courier New',monospace\"></pre>\n"
      ],
      "text/plain": []
     },
     "metadata": {},
     "output_type": "display_data"
    },
    {
     "data": {
      "text/html": [
       "<pre style=\"white-space:pre;overflow-x:auto;line-height:normal;font-family:Menlo,'DejaVu Sans Mono',consolas,'Courier New',monospace\">\n",
       "</pre>\n"
      ],
      "text/plain": [
       "\n"
      ]
     },
     "metadata": {},
     "output_type": "display_data"
    },
    {
     "name": "stdout",
     "output_type": "stream",
     "text": [
      "RMS difference =2.1481060567812245e-07\n",
      "algorithm converged\n"
     ]
    }
   ],
   "source": [
    "# Co-align specimens\n",
    "SUPER_TYPE = 'joint'\n",
    "if SUPER_TYPE == 'joint':\n",
    "    n_landmarks_x = x_vertices.shape[0]\n",
    "    n_landmarks_y = y_vertices.shape[0]\n",
    "    # concatenate the vertices\n",
    "    cat_lms = np.vstack([x_vertices,y_vertices])\n",
    "    # do GPA on the landmarks together\n",
    "    aligned_lms,mean_lms = procrustes.do_generalized_procrustes_analysis(cat_lms)\n",
    "    # split them into two blocks again\n",
    "    X = aligned_lms[:n_landmarks_x]\n",
    "    Y = aligned_lms[n_landmarks_x:]\n",
    "    Xmean = mean_lms[:n_landmarks_x]\n",
    "    Ymean = mean_lms[n_landmarks_x:]\n",
    "elif SUPER_TYPE == 'separate':\n",
    "    X,Xmean = procrustes.do_generalized_procrustes_analysis(x_vertices)\n",
    "    Y,Ymean = procrustes.do_generalized_procrustes_analysis(y_vertices)\n",
    "else:\n",
    "    raise ValueError('not a valid \\'SUPER_TYPE\\'')\n"
   ]
  },
  {
   "cell_type": "markdown",
   "metadata": {},
   "source": [
    "## Step 2: Principal components analysis\n",
    "Next we need to create two instances of the 'ShapePCA' class, one representing shape variation in the nose, and one representing shape variation in the forehead. The two blocks in 2B-PLS analysis will be the principal component scores. While doing PCA prior to 2B-PLS is not strictly necessary:\n",
    "1. The implementation in python_shape_stats assumes this is how the shapes will be represented.\n",
    "2. It is usually drastically more efficient when the analysis is done on PC scores rather than the raw data especially when the number of features is large.\n"
   ]
  },
  {
   "cell_type": "code",
   "execution_count": 6,
   "metadata": {
    "collapsed": false,
    "jupyter": {
     "outputs_hidden": false
    }
   },
   "outputs": [],
   "source": [
    "# this is not a situation in which the number of PCs retained is especially crucial. The main risk\n",
    "# is that if you exclude too many you might lose some interesting information. So set a high threshold is my advice...\n",
    "PCT_VAR = 99.9 # retain PCs explaining up to 99.9% of the total variation\n",
    "\n",
    "# make PCA model of x\n",
    "PCA_X = ShapePCA()\n",
    "PCA_X.fit_transform(X,center_config=Xmean,center=True)\n",
    "# reduce dimensions\n",
    "PCA_X.trim_perc_var(PCT_VAR)\n",
    "\n",
    "#make PCA model of y\n",
    "PCA_Y = ShapePCA()\n",
    "PCA_Y.fit_transform(Y,center_config = Ymean,center=True)\n",
    "PCA_Y.trim_perc_var(PCT_VAR)\n",
    "\n",
    "# for later we will want to visualise meshes as surface, for this we need the faces of the polydata, which we will attach to each ShapePCA by giving it a reference polydata object (an example mesh from each dataset)\n",
    "\n",
    "PCA_Y.reference_polydata = y_polydatas[0]\n",
    "PCA_X.reference_polydata = x_polydatas[0]\n",
    "\n"
   ]
  },
  {
   "cell_type": "markdown",
   "metadata": {},
   "source": [
    "### Step 3 fit two block PLS model\n",
    "Now we can fit the two block PLS model between X and Y. Strictly speaking this fits the model to the pc scores i.e. it fits the model between PCA_X.transformed_training_data and PCA_Y.transformed_training_data"
   ]
  },
  {
   "cell_type": "code",
   "execution_count": 7,
   "metadata": {
    "collapsed": false,
    "jupyter": {
     "outputs_hidden": false
    }
   },
   "outputs": [],
   "source": [
    "PLSMod = ShapePLS_2B()\n",
    "PLSMod.fit(PCA_X,PCA_Y)"
   ]
  },
  {
   "cell_type": "markdown",
   "metadata": {},
   "source": [
    "### Step 4 how many PLS dimensions are interesting\n",
    "Two block PLS reveals how block X covaries with block Y. It finds combinations of the x and y variables that are maximally associated with each other. Each successive dimension explains less and less covariation. We need to know how many of these are real signal and which are noise. One way to do this is via a permutation test:\n",
    "\n",
    "The covariance explained by each pair of latent dimensions is kept in the attribute PLSMod.cov_explained. To determine if this is more than expected by chance we can see what would happen if there was no relationship between X and Y  and compare the observed values to that. Essentially we permute the rows of the X-block n times and fit a PLS_2B model to the simulated data. By doing so we build up a 'null' distribution that can be compared to the observed values."
   ]
  },
  {
   "cell_type": "code",
   "execution_count": 8,
   "metadata": {
    "collapsed": false,
    "jupyter": {
     "outputs_hidden": false
    }
   },
   "outputs": [
    {
     "data": {
      "application/vnd.jupyter.widget-view+json": {
       "model_id": "a33dacbff7aa417a8d54ef96353590df",
       "version_major": 2,
       "version_minor": 0
      },
      "text/plain": [
       "Output()"
      ]
     },
     "metadata": {},
     "output_type": "display_data"
    },
    {
     "data": {
      "text/html": [
       "<pre style=\"white-space:pre;overflow-x:auto;line-height:normal;font-family:Menlo,'DejaVu Sans Mono',consolas,'Courier New',monospace\"></pre>\n"
      ],
      "text/plain": []
     },
     "metadata": {},
     "output_type": "display_data"
    },
    {
     "data": {
      "text/html": [
       "<pre style=\"white-space:pre;overflow-x:auto;line-height:normal;font-family:Menlo,'DejaVu Sans Mono',consolas,'Courier New',monospace\">\n",
       "</pre>\n"
      ],
      "text/plain": [
       "\n"
      ]
     },
     "metadata": {},
     "output_type": "display_data"
    }
   ],
   "source": [
    "# run the permutation test with 1000 repetitions\n",
    "PLSMod.compute_null_distribution(n_reps=1000)\n",
    "# the result is kept in PLSMod._permutation_null_distribution\n"
   ]
  },
  {
   "cell_type": "markdown",
   "metadata": {},
   "source": [
    "A 'p value' for each dimension can then be calculated. This is for what proportion of repetitions the null values were greater than the observed values. It is common to accept  only those dimensions with p values < .05."
   ]
  },
  {
   "cell_type": "code",
   "execution_count": 9,
   "metadata": {
    "collapsed": false,
    "jupyter": {
     "outputs_hidden": false
    }
   },
   "outputs": [
    {
     "name": "stdout",
     "output_type": "stream",
     "text": [
      "[0.    0.    0.    0.001 0.    0.004 0.    0.    0.   ]\n"
     ]
    }
   ],
   "source": [
    "print(PLSMod.perm_test_p_values)"
   ]
  },
  {
   "cell_type": "markdown",
   "metadata": {},
   "source": [
    "And we can also plot how the observed values sit in relation to the null."
   ]
  },
  {
   "cell_type": "code",
   "execution_count": 7,
   "metadata": {
    "collapsed": false,
    "jupyter": {
     "outputs_hidden": false
    }
   },
   "outputs": [
    {
     "data": {
      "image/png": "[encoded data removed]",
      "text/plain": [
       "<Figure size 640x480 with 1 Axes>"
      ]
     },
     "metadata": {},
     "output_type": "display_data"
    }
   ],
   "source": [
    "PLSMod.permutation_test_plot(p_crit=.05)"
   ]
  },
  {
   "cell_type": "markdown",
   "metadata": {},
   "source": [
    "All dimensions are significant, however we can see that the first two explain much much more covariation than the remainder. These are likely to be the most interesting to look at. You can visualise pairs of latent dimensions as paired color-maps.\n",
    "\n",
    "### Step 5 Visualising the interesting dimensions\n",
    "As I mentioned above neither method of plotting colormaps or making animations work properly from inside Jupyter. To get the following"
   ]
  },
  {
   "cell_type": "code",
   "execution_count": 11,
   "metadata": {
    "collapsed": false,
    "jupyter": {
     "outputs_hidden": false
    }
   },
   "outputs": [
    {
     "data": {
      "application/vnd.jupyter.widget-view+json": {
       "model_id": "46fa2443e0764ed4b49cf91b0065d0cb",
       "version_major": 2,
       "version_minor": 0
      },
      "text/plain": [
       "Widget(value=\"<iframe src='http://localhost:53683/index.html?ui=P_0x17d12dcc0_0&reconnect=auto' style='width: …"
      ]
     },
     "metadata": {},
     "output_type": "display_data"
    }
   ],
   "source": [
    "# plot in the same viewer if they are in the same coordinate system\n",
    "if SUPER_TYPE == 'joint':\n",
    "    same_coordinate_system = True\n",
    "else:\n",
    "    same_coordinate_system = False\n",
    "\n",
    "# make colormap\n",
    "dim = 1 # e.g. plot the first dimension\n",
    "PLSMod.colormap_latent_dim(dim,link_views=False,same_coordinate_system=same_coordinate_system,direction='normal')\n"
   ]
  },
  {
   "cell_type": "markdown",
   "metadata": {},
   "source": []
  },
  {
   "cell_type": "code",
   "execution_count": 12,
   "metadata": {
    "collapsed": false,
    "jupyter": {
     "outputs_hidden": false
    }
   },
   "outputs": [
    {
     "ename": "ValueError",
     "evalue": "operands could not be broadcast together with shapes (20,) (1,9) ",
     "output_type": "error",
     "traceback": [
      "\u001b[0;31m---------------------------------------------------------------------------\u001b[0m",
      "\u001b[0;31mValueError\u001b[0m                                Traceback (most recent call last)",
      "Cell \u001b[0;32mIn[12], line 2\u001b[0m\n\u001b[1;32m      1\u001b[0m \u001b[38;5;66;03m# make animation\u001b[39;00m\n\u001b[0;32m----> 2\u001b[0m \u001b[43mPLSMod\u001b[49m\u001b[38;5;241;43m.\u001b[39;49m\u001b[43manimate_latent_dim\u001b[49m\u001b[43m(\u001b[49m\u001b[38;5;241;43m1\u001b[39;49m\u001b[43m,\u001b[49m\u001b[43mlink_views\u001b[49m\u001b[38;5;241;43m=\u001b[39;49m\u001b[38;5;28;43;01mFalse\u001b[39;49;00m\u001b[43m,\u001b[49m\u001b[43msame_coordinate_system\u001b[49m\u001b[38;5;241;43m=\u001b[39;49m\u001b[43msame_coordinate_system\u001b[49m\u001b[43m)\u001b[49m\n",
      "File \u001b[0;32m~/Documents/Projects/python_shape_stats/python_shape_stats/statistical_shape_models.py:1261\u001b[0m, in \u001b[0;36mShapePLS_2B.animate_latent_dim\u001b[0;34m(self, dim, max_sd, n_frames, same_coordinate_system, **kwargs)\u001b[0m\n\u001b[1;32m   1259\u001b[0m base_polydata \u001b[38;5;241m=\u001b[39m \u001b[38;5;28mself\u001b[39m\u001b[38;5;241m.\u001b[39m_get_base_polydata()\n\u001b[1;32m   1260\u001b[0m vectors \u001b[38;5;241m=\u001b[39m \u001b[38;5;28mself\u001b[39m\u001b[38;5;241m.\u001b[39m_get_latent_vectors(dim)\n\u001b[0;32m-> 1261\u001b[0m frame_scalars \u001b[38;5;241m=\u001b[39m \u001b[38;5;28;43mself\u001b[39;49m\u001b[38;5;241;43m.\u001b[39;49m\u001b[43m_get_frame_scalars\u001b[49m\u001b[43m(\u001b[49m\u001b[43mdim\u001b[49m\u001b[43m,\u001b[49m\u001b[43mmax_sd\u001b[49m\u001b[38;5;241;43m=\u001b[39;49m\u001b[43mmax_sd\u001b[49m\u001b[43m,\u001b[49m\u001b[43mn_frames\u001b[49m\u001b[38;5;241;43m=\u001b[39;49m\u001b[43mn_frames\u001b[49m\u001b[43m)\u001b[49m\n\u001b[1;32m   1263\u001b[0m helpers\u001b[38;5;241m.\u001b[39manimate_vectors(base_polydata\u001b[38;5;241m=\u001b[39mbase_polydata,point_vectors\u001b[38;5;241m=\u001b[39mvectors,frame_scalars\u001b[38;5;241m=\u001b[39mframe_scalars,mode\u001b[38;5;241m=\u001b[39mmode,file_name\u001b[38;5;241m=\u001b[39mfile_name,off_screen\u001b[38;5;241m=\u001b[39moff_screen,same_coordinate_system\u001b[38;5;241m=\u001b[39msame_coordinate_system,\u001b[38;5;241m*\u001b[39m\u001b[38;5;241m*\u001b[39mkwargs)\n",
      "File \u001b[0;32m~/Documents/Projects/python_shape_stats/python_shape_stats/statistical_shape_models.py:1238\u001b[0m, in \u001b[0;36mShapePLS_2B._get_frame_scalars\u001b[0;34m(self, dim, max_sd, n_frames)\u001b[0m\n\u001b[1;32m   1235\u001b[0m \u001b[38;5;28;01mdef\u001b[39;00m \u001b[38;5;21m_get_frame_scalars\u001b[39m(\u001b[38;5;28mself\u001b[39m,dim,max_sd\u001b[38;5;241m=\u001b[39m\u001b[38;5;241m3\u001b[39m,n_frames\u001b[38;5;241m=\u001b[39m\u001b[38;5;241m20\u001b[39m):\n\u001b[1;32m   1236\u001b[0m     sc_x \u001b[38;5;241m=\u001b[39m helpers\u001b[38;5;241m.\u001b[39m_generate_circular_sequence(\u001b[38;5;241m-\u001b[39mmax_sd, max_sd, \u001b[38;5;241m0\u001b[39m, n_in_sequence\u001b[38;5;241m=\u001b[39mn_frames) \u001b[38;5;241m*\u001b[39m np\u001b[38;5;241m.\u001b[39mstd(\n\u001b[1;32m   1237\u001b[0m         \u001b[38;5;28mself\u001b[39m\u001b[38;5;241m.\u001b[39mx_scores[:, dim])\n\u001b[0;32m-> 1238\u001b[0m     sc_y \u001b[38;5;241m=\u001b[39m \u001b[38;5;28;43mself\u001b[39;49m\u001b[38;5;241;43m.\u001b[39;49m\u001b[43mpredict_y_scores_from_x\u001b[49m\u001b[43m(\u001b[49m\u001b[43msc_x\u001b[49m\u001b[43m)\u001b[49m\n\u001b[1;32m   1239\u001b[0m     frame_scalars \u001b[38;5;241m=\u001b[39m [sc_x,sc_y]\n\u001b[1;32m   1240\u001b[0m     is_shape \u001b[38;5;241m=\u001b[39m [\u001b[38;5;28mself\u001b[39m\u001b[38;5;241m.\u001b[39m_is_x_shape,\u001b[38;5;28mself\u001b[39m\u001b[38;5;241m.\u001b[39m_is_y_shape]\n",
      "File \u001b[0;32m~/Documents/Projects/python_shape_stats/python_shape_stats/statistical_shape_models.py:1167\u001b[0m, in \u001b[0;36mPLS_2B.predict_y_scores_from_x\u001b[0;34m(self, x_scores)\u001b[0m\n\u001b[1;32m   1166\u001b[0m \u001b[38;5;28;01mdef\u001b[39;00m \u001b[38;5;21mpredict_y_scores_from_x\u001b[39m(\u001b[38;5;28mself\u001b[39m, x_scores):\n\u001b[0;32m-> 1167\u001b[0m     \u001b[38;5;28;01mreturn\u001b[39;00m \u001b[43mx_scores\u001b[49m\u001b[43m \u001b[49m\u001b[38;5;241;43m*\u001b[39;49m\u001b[43m \u001b[49m\u001b[38;5;28;43mself\u001b[39;49m\u001b[38;5;241;43m.\u001b[39;49m\u001b[43minner_relation_coefs\u001b[49m\u001b[43m[\u001b[49m\u001b[43mnp\u001b[49m\u001b[38;5;241;43m.\u001b[39;49m\u001b[43mnewaxis\u001b[49m\u001b[43m,\u001b[49m\u001b[43m \u001b[49m\u001b[43m:\u001b[49m\u001b[43m]\u001b[49m\n",
      "\u001b[0;31mValueError\u001b[0m: operands could not be broadcast together with shapes (20,) (1,9) "
     ]
    }
   ],
   "source": [
    "# make animation\n",
    "PLSMod.animate_latent_dim(1,link_views=False,same_coordinate_system=same_coordinate_system)\n"
   ]
  },
  {
   "cell_type": "markdown",
   "metadata": {},
   "source": [
    " **NOTE: if you run the above command in a python script (not a jupyter notebook), run in an IDE like PyCharm or Spyder, typing 'k' will trigger the animation to start and save it as a gif. This also doesn't work from jupyter, so here's one I prepared earlier**\n",
    " ![SegmentLocal](/Users/hmatth5/Documents/Projects/python_shape_stats/docs/source/usage/examples/notebooks/Two-Block_PLS/images/PLS_Dim1.gif \"segment\")"
   ]
  },
  {
   "cell_type": "code",
   "execution_count": null,
   "metadata": {
    "collapsed": false,
    "jupyter": {
     "outputs_hidden": false
    }
   },
   "outputs": [],
   "source": []
  }
 ],
 "metadata": {
  "kernelspec": {
   "display_name": "Python 3 (ipykernel)",
   "language": "python",
   "name": "python3"
  },
  "language_info": {
   "codemirror_mode": {
    "name": "ipython",
    "version": 3
   },
   "file_extension": ".py",
   "mimetype": "text/x-python",
   "name": "python",
   "nbconvert_exporter": "python",
   "pygments_lexer": "ipython3",
   "version": "3.11.2"
  }
 },
 "nbformat": 4,
 "nbformat_minor": 4
}
